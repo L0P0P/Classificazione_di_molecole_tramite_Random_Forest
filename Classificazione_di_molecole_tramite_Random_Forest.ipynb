{
  "nbformat": 4,
  "nbformat_minor": 0,
  "metadata": {
    "colab": {
      "provenance": [],
      "authorship_tag": "ABX9TyMSNaZDhCchYnCMldQelfpa",
      "include_colab_link": true
    },
    "kernelspec": {
      "name": "python3",
      "display_name": "Python 3"
    },
    "language_info": {
      "name": "python"
    }
  },
  "cells": [
    {
      "cell_type": "markdown",
      "metadata": {
        "id": "view-in-github",
        "colab_type": "text"
      },
      "source": [
        "<a href=\"https://colab.research.google.com/github/L0P0P/Classificazione_di_molecole_tramite_Random_Forest/blob/main/Classificazione_di_molecole_tramite_Random_Forest.ipynb\" target=\"_parent\"><img src=\"https://colab.research.google.com/assets/colab-badge.svg\" alt=\"Open In Colab\"/></a>"
      ]
    },
    {
      "cell_type": "markdown",
      "source": [
        "# Progetto d'esame di Basi di Dati\n",
        "**A.A. 2022/2023, 1° sessione autunnale**\n",
        "\n",
        "**Docente:** *Stefano Ferretti* \\\n",
        "**Studente:** *Emanuele Grasso* \\\n",
        "**Matricola n°:** *307771*"
      ],
      "metadata": {
        "id": "N3aZIqj2jVlQ"
      }
    },
    {
      "cell_type": "markdown",
      "source": [
        "# Classificazione di molecole tramite Random Forest\n",
        "##Specifica del Problema\n",
        "Questo progetto ha l'obiettivo di condurre un'analisi sui dati riguardanti la classificazione di diverse molecole, assegnando ciascuna molecola a una delle due categorie disponibili. \\\n",
        "\\\n",
        "Successivamente, si svilupperà un modello di classificazione, basato sull'algoritmo di Random Forest, che, in conformità con i dati forniti, possa eseguire una precisa classificazione binaria delle molecole, prevedendo con precisione a quale delle due classi appartiene ciascuna molecola."
      ],
      "metadata": {
        "id": "7l3nEk2BjcyF"
      }
    },
    {
      "cell_type": "code",
      "source": [
        "import pickle\n",
        "import seaborn as sns\n",
        "import pandas as pd\n",
        "from tabulate import tabulate\n",
        "import matplotlib.pyplot as plt\n",
        "from sklearn.model_selection import train_test_split\n",
        "from sklearn.ensemble import RandomForestClassifier\n",
        "from sklearn.metrics import (\n",
        "  accuracy_score,\n",
        "  precision_score,\n",
        "  recall_score,\n",
        "  precision_recall_curve,\n",
        "  f1_score,\n",
        "  average_precision_score,\n",
        "  confusion_matrix,\n",
        "  roc_curve,\n",
        "  auc )\n",
        "\n",
        "!wget -O X_dataset_Lymphocytes_B.pkl https://raw.githubusercontent.com/L0P0P/Classificazione_di_molecole_tramite_Random_Forest/main/datasets/X_dataset_Lymphocytes_B.pkl\n",
        "\n",
        "!wget -O y_dataset_Lymphocytes_B.pkl https://raw.githubusercontent.com/L0P0P/Classificazione_di_molecole_tramite_Random_Forest/main/datasets/y_dataset_Lymphocytes_B.pkl"
      ],
      "metadata": {
        "id": "AAo1pjqvvglW",
        "colab": {
          "base_uri": "https://localhost:8080/"
        },
        "outputId": "13064ac6-b21b-4911-e599-0cdfe392d811"
      },
      "execution_count": 1,
      "outputs": [
        {
          "output_type": "stream",
          "name": "stdout",
          "text": [
            "--2023-08-22 11:41:34--  https://raw.githubusercontent.com/L0P0P/Classificazione_di_molecole_tramite_Random_Forest/main/datasets/X_dataset_Lymphocytes_B.pkl\n",
            "Resolving raw.githubusercontent.com (raw.githubusercontent.com)... 185.199.108.133, 185.199.110.133, 185.199.111.133, ...\n",
            "Connecting to raw.githubusercontent.com (raw.githubusercontent.com)|185.199.108.133|:443... connected.\n",
            "HTTP request sent, awaiting response... 200 OK\n",
            "Length: 24940416 (24M) [application/octet-stream]\n",
            "Saving to: ‘X_dataset_Lymphocytes_B.pkl’\n",
            "\n",
            "\r          X_dataset   0%[                    ]       0  --.-KB/s               \rX_dataset_Lymphocyt 100%[===================>]  23.78M  --.-KB/s    in 0.1s    \n",
            "\n",
            "2023-08-22 11:41:35 (168 MB/s) - ‘X_dataset_Lymphocytes_B.pkl’ saved [24940416/24940416]\n",
            "\n",
            "--2023-08-22 11:41:35--  https://raw.githubusercontent.com/L0P0P/Classificazione_di_molecole_tramite_Random_Forest/main/datasets/y_dataset_Lymphocytes_B.pkl\n",
            "Resolving raw.githubusercontent.com (raw.githubusercontent.com)... 185.199.110.133, 185.199.109.133, 185.199.108.133, ...\n",
            "Connecting to raw.githubusercontent.com (raw.githubusercontent.com)|185.199.110.133|:443... connected.\n",
            "HTTP request sent, awaiting response... 200 OK\n",
            "Length: 9353089 (8.9M) [application/octet-stream]\n",
            "Saving to: ‘y_dataset_Lymphocytes_B.pkl’\n",
            "\n",
            "y_dataset_Lymphocyt 100%[===================>]   8.92M  --.-KB/s    in 0.07s   \n",
            "\n",
            "2023-08-22 11:41:35 (130 MB/s) - ‘y_dataset_Lymphocytes_B.pkl’ saved [9353089/9353089]\n",
            "\n"
          ]
        }
      ]
    },
    {
      "cell_type": "markdown",
      "source": [
        "##Analisi del Problema\n",
        "I dati iniziali, sui quali si baserà l'analisi, sono contenuti nei seguenti file:\\\n",
        "\\- X_dataset_Lymphocytes_B.pkl \\\n",
        "\\- y_dataset_Lymphocytes_B.pkl \\\n",
        "Privi di valori nulli, con una corrispondenza tra il numero di righe del primo file e il numero di righe del secondo file, idonei per essere elaborati ad analizzati.\\\n",
        "\\\n",
        "In particolare, nel file \"*X_dataset_Lymphocytes_B.pkl*\", sono presenti tutte le caratteristiche associate alle istanze di molecole, dove, le colonne rappresentano le misurazioni condotte su diversi marcatori proteici.\\\n",
        "\\\n",
        "Mentre, nel file \"*y_dataset_Lymphocytes_B.pkl*\", sono presenti le etichette corrispondenti che indicano a quale classe appartiene ciascuna molecola.\\\n",
        "\\\n",
        "Seguono delle rappresentazioni, in forma tabellare, di un estratto di entrambi i file."
      ],
      "metadata": {
        "id": "g-j2em87jWD4"
      }
    },
    {
      "cell_type": "code",
      "execution_count": 2,
      "metadata": {
        "id": "SG1967_fhquY",
        "colab": {
          "base_uri": "https://localhost:8080/"
        },
        "outputId": "784f36be-0998-4eec-f2ac-3cf526f39165"
      },
      "outputs": [
        {
          "output_type": "stream",
          "name": "stdout",
          "text": [
            "Dati caricati:\n",
            "\n",
            "X_dataset:\n",
            "+--------+------------+-----------+----------+---------+--------+------------+------------+\n",
            "|        |   FSC-A    |   SSC-A   |   CD3    |   CD4   |  CD19  |    CD8     |    CD45    |\n",
            "+--------+------------+-----------+----------+---------+--------+------------+------------+\n",
            "| 14699  |  36406.3   |  18958.5  |  8914.5  |  18.75  | 190.5  |   5514.3   |   3874.5   |\n",
            "| 114466 |  100106.3  | 137077.5  |  315.0   |  -1.5   |  -1.5  |    31.5    |   309.6    |\n",
            "| 82522  |  81902.1   |  38712.0  |  98.25   |  472.5  | 411.0  | 109.799995 |   6565.5   |\n",
            "| 166114 | 46380.5977 | 20576.25  | 16860.75 | 2421.75 | 1300.5 |   320.4    |  10421.1   |\n",
            "| 41401  |  119617.4  | 256692.75 |  528.0   |  442.5  | 441.0  |    48.6    | 1567.79993 |\n",
            "+--------+------------+-----------+----------+---------+--------+------------+------------+\n",
            "\n",
            "\n",
            "y_dataset:\n",
            "\n",
            "14699     0.0\n",
            "114466    0.0\n",
            "82522     0.0\n",
            "166114    0.0\n",
            "41401     0.0\n",
            "Name: label, dtype: float64\n"
          ]
        }
      ],
      "source": [
        "# Caricamento dei dati dai file pickle\n",
        "with open('X_dataset_Lymphocytes_B.pkl', 'rb') as f:\n",
        "    X_dataset = pickle.load(f)\n",
        "\n",
        "with open('y_dataset_Lymphocytes_B.pkl', 'rb') as f:\n",
        "    y_dataset = pickle.load(f)\n",
        "\n",
        "# Stampa dei dati caricati come tabelle utilizzando tabulate\n",
        "print(\"Dati caricati:\\n\")\n",
        "print(\"X_dataset:\")\n",
        "print(tabulate(X_dataset[:5], headers='keys', tablefmt='pretty'))\n",
        "print(f\"\\n\\ny_dataset:\\n\\n{y_dataset[:5]}\")"
      ]
    },
    {
      "cell_type": "markdown",
      "source": [
        "## Progettazione dell'algoritmo\n",
        "Come primo passaggio fondamentale, ho ritenuto necessario suddividere i dataset di partenza in insiemi di addestramento e di test, per poterli usare rispettivamente per addestrare il modello di Machine Learning e verificare che questo funzioni correttamente. \\\n",
        "Considerando che la parte di addestramento necessita di un maggior quantitativo di dati, questa sarà composta dall’80% dei dati di partenza. \\\n",
        "\\\n",
        "Inoltre, osservando le ridotte dimensioni dei dataset presi in input, ho volutamente deciso di omettere un'ulteriore partizione destinata alla validazione, questo perché potrebbe portare a una riduzione troppo significativa del numero di dati disponibili per l'addestramento e la valutazione."
      ],
      "metadata": {
        "id": "1EmLyAQcjm7l"
      }
    },
    {
      "cell_type": "code",
      "source": [
        "# Divisione dei dati in set di addestramento e di test\n",
        "X_train, X_test, y_train, y_test = train_test_split(X_dataset, y_dataset, test_size=0.2, random_state=42)"
      ],
      "metadata": {
        "id": "nicB9ZRQqNU6"
      },
      "execution_count": 3,
      "outputs": []
    },
    {
      "cell_type": "markdown",
      "source": [
        "##Implementazione dell'Algoritmo\n",
        "A questo punto utilizzerò l'algoritmo di RandomForestClassifier; un algoritmo di apprendimento automatico che, durante il processo di addestramento, costruisce diversi alberi decisionali e impara come combinare le loro previsioni per ottenere risultati più accurati e stabili. \\\n",
        "In altre parole, il modello si adegua ai dati di addestramento per cercare e catturare dei pattern. \\\n",
        "\\\n",
        "Il parametro random_state=1010 imposta il generatore di numeri casuali per garantire la riproducibilità delle operazioni di casualità all'interno del modello, escludendo la completa casualità forzando l'algoritmo ad utilizzare la stessa sequenza di numeri casuali ogni volta che viene eseguito."
      ],
      "metadata": {
        "id": "dL1-1vEZqOW_"
      }
    },
    {
      "cell_type": "code",
      "source": [
        "# Creazione e addestramento del modello (Random Forest)\n",
        "model = RandomForestClassifier(random_state=1010)\n",
        "model.fit(X_train, y_train)"
      ],
      "metadata": {
        "id": "TDjdQhich8c1",
        "colab": {
          "base_uri": "https://localhost:8080/",
          "height": 75
        },
        "outputId": "44768195-b629-4d44-82e5-1daabe8b7dae"
      },
      "execution_count": 4,
      "outputs": [
        {
          "output_type": "execute_result",
          "data": {
            "text/plain": [
              "RandomForestClassifier(random_state=1010)"
            ],
            "text/html": [
              "<style>#sk-container-id-1 {color: black;background-color: white;}#sk-container-id-1 pre{padding: 0;}#sk-container-id-1 div.sk-toggleable {background-color: white;}#sk-container-id-1 label.sk-toggleable__label {cursor: pointer;display: block;width: 100%;margin-bottom: 0;padding: 0.3em;box-sizing: border-box;text-align: center;}#sk-container-id-1 label.sk-toggleable__label-arrow:before {content: \"▸\";float: left;margin-right: 0.25em;color: #696969;}#sk-container-id-1 label.sk-toggleable__label-arrow:hover:before {color: black;}#sk-container-id-1 div.sk-estimator:hover label.sk-toggleable__label-arrow:before {color: black;}#sk-container-id-1 div.sk-toggleable__content {max-height: 0;max-width: 0;overflow: hidden;text-align: left;background-color: #f0f8ff;}#sk-container-id-1 div.sk-toggleable__content pre {margin: 0.2em;color: black;border-radius: 0.25em;background-color: #f0f8ff;}#sk-container-id-1 input.sk-toggleable__control:checked~div.sk-toggleable__content {max-height: 200px;max-width: 100%;overflow: auto;}#sk-container-id-1 input.sk-toggleable__control:checked~label.sk-toggleable__label-arrow:before {content: \"▾\";}#sk-container-id-1 div.sk-estimator input.sk-toggleable__control:checked~label.sk-toggleable__label {background-color: #d4ebff;}#sk-container-id-1 div.sk-label input.sk-toggleable__control:checked~label.sk-toggleable__label {background-color: #d4ebff;}#sk-container-id-1 input.sk-hidden--visually {border: 0;clip: rect(1px 1px 1px 1px);clip: rect(1px, 1px, 1px, 1px);height: 1px;margin: -1px;overflow: hidden;padding: 0;position: absolute;width: 1px;}#sk-container-id-1 div.sk-estimator {font-family: monospace;background-color: #f0f8ff;border: 1px dotted black;border-radius: 0.25em;box-sizing: border-box;margin-bottom: 0.5em;}#sk-container-id-1 div.sk-estimator:hover {background-color: #d4ebff;}#sk-container-id-1 div.sk-parallel-item::after {content: \"\";width: 100%;border-bottom: 1px solid gray;flex-grow: 1;}#sk-container-id-1 div.sk-label:hover label.sk-toggleable__label {background-color: #d4ebff;}#sk-container-id-1 div.sk-serial::before {content: \"\";position: absolute;border-left: 1px solid gray;box-sizing: border-box;top: 0;bottom: 0;left: 50%;z-index: 0;}#sk-container-id-1 div.sk-serial {display: flex;flex-direction: column;align-items: center;background-color: white;padding-right: 0.2em;padding-left: 0.2em;position: relative;}#sk-container-id-1 div.sk-item {position: relative;z-index: 1;}#sk-container-id-1 div.sk-parallel {display: flex;align-items: stretch;justify-content: center;background-color: white;position: relative;}#sk-container-id-1 div.sk-item::before, #sk-container-id-1 div.sk-parallel-item::before {content: \"\";position: absolute;border-left: 1px solid gray;box-sizing: border-box;top: 0;bottom: 0;left: 50%;z-index: -1;}#sk-container-id-1 div.sk-parallel-item {display: flex;flex-direction: column;z-index: 1;position: relative;background-color: white;}#sk-container-id-1 div.sk-parallel-item:first-child::after {align-self: flex-end;width: 50%;}#sk-container-id-1 div.sk-parallel-item:last-child::after {align-self: flex-start;width: 50%;}#sk-container-id-1 div.sk-parallel-item:only-child::after {width: 0;}#sk-container-id-1 div.sk-dashed-wrapped {border: 1px dashed gray;margin: 0 0.4em 0.5em 0.4em;box-sizing: border-box;padding-bottom: 0.4em;background-color: white;}#sk-container-id-1 div.sk-label label {font-family: monospace;font-weight: bold;display: inline-block;line-height: 1.2em;}#sk-container-id-1 div.sk-label-container {text-align: center;}#sk-container-id-1 div.sk-container {/* jupyter's `normalize.less` sets `[hidden] { display: none; }` but bootstrap.min.css set `[hidden] { display: none !important; }` so we also need the `!important` here to be able to override the default hidden behavior on the sphinx rendered scikit-learn.org. See: https://github.com/scikit-learn/scikit-learn/issues/21755 */display: inline-block !important;position: relative;}#sk-container-id-1 div.sk-text-repr-fallback {display: none;}</style><div id=\"sk-container-id-1\" class=\"sk-top-container\"><div class=\"sk-text-repr-fallback\"><pre>RandomForestClassifier(random_state=1010)</pre><b>In a Jupyter environment, please rerun this cell to show the HTML representation or trust the notebook. <br />On GitHub, the HTML representation is unable to render, please try loading this page with nbviewer.org.</b></div><div class=\"sk-container\" hidden><div class=\"sk-item\"><div class=\"sk-estimator sk-toggleable\"><input class=\"sk-toggleable__control sk-hidden--visually\" id=\"sk-estimator-id-1\" type=\"checkbox\" checked><label for=\"sk-estimator-id-1\" class=\"sk-toggleable__label sk-toggleable__label-arrow\">RandomForestClassifier</label><div class=\"sk-toggleable__content\"><pre>RandomForestClassifier(random_state=1010)</pre></div></div></div></div></div>"
            ]
          },
          "metadata": {},
          "execution_count": 4
        }
      ]
    },
    {
      "cell_type": "markdown",
      "source": [
        "##Verifica dei risultati ottenuti\n",
        "Dopo aver addestrato il modello, lo utilizzo per effettuare previsioni sull'insieme di test *X_test*. \\\n",
        "Queste previsioni rappresentano delle classificazioni, autonomamente effettuate dal modello, per ciascuna istanza nei dati di test, ossia su dati che non ha mai visto prima. \\\n",
        "*y_pred* conterrà le etichette prodotte dal modello per l'insieme di test. \\\n",
        "\\\n",
        "Partendo da queste previsioni e dall'insieme di test originale, vado a calcolare diverse metriche di valutazione: \\\n",
        "\\- accuratezza \\\n",
        "\\- precisione \\\n",
        "\\- recall \\\n",
        "\\- F1-score \\\n",
        "\\- matrice di confusione \\\n",
        "\\- curva ROC \\\n",
        "\\- curva precision-recall"
      ],
      "metadata": {
        "id": "1c8-iTTOtIR_"
      }
    },
    {
      "cell_type": "code",
      "source": [
        "# Previsioni del modello sul set di test\n",
        "y_pred = model.predict(X_test)\n",
        "\n",
        "# Calcolo delle metriche di valutazione\n",
        "accuracy = accuracy_score(y_test, y_pred)\n",
        "precision = precision_score(y_test, y_pred)\n",
        "recall = recall_score(y_test, y_pred)\n",
        "f1 = f1_score(y_test, y_pred)\n",
        "confusion = confusion_matrix(y_test, y_pred)\n",
        "\n",
        "# Calcolo della curva ROC e AUC\n",
        "fpr, tpr, _ = roc_curve(y_test, y_pred)\n",
        "roc_auc = auc(fpr, tpr)\n",
        "\n",
        "# Calcolo della curva Precision-Recall\n",
        "precision_curve, recall_curve, _ = precision_recall_curve(y_test, y_pred)\n",
        "average_precision = average_precision_score(y_test, y_pred)"
      ],
      "metadata": {
        "id": "R3Lc9QbVvTp1"
      },
      "execution_count": 5,
      "outputs": []
    },
    {
      "cell_type": "markdown",
      "source": [
        "In questo punto raccolgo in una tabella e mostro a schermo i risultati di: \\\n",
        "\n",
        "###1) Accuratezza\n",
        "Metrica di valutazione utilizzata per misurare la percentuale di previsioni corrette effettuate dal modello rispetto al numero totale di previsioni. \\\n",
        "\n",
        "L'accuratezza è calcolata come:\n",
        "$$Accuratezza = \\frac{\\text{Numero di previsioni corrette}}{\\text{Numero totale di previsioni}}$$\n",
        "\n",
        "###2) Precisione\n",
        "Metrica di valutazione utilizzata per misurare quanto il modello è accurato quando prevede un'istanza come positiva, fornendo una stima di quante delle previsioni positive fatte dal modello sono effettivamente corrette. \\\n",
        "\n",
        "La precisione è calcolata come:\n",
        "$$Precisione = \\frac{\\text{Veri positivi}}{\\text{Veri positivi}+\\text{Falsi positivi}}$$\n",
        "\n",
        "Dove i \"veri positivi\" rappresentano il numero di istanze che il modello ha previsto come positive e che sono effettivamente positive, mentre, i \"falsi positivi\" rappresentano il numero di istanze che il modello ha previsto come positive ma che sono effettivamente negative. \\\n",
        "\n",
        "###3) Recall\n",
        "Metrica di valutazione utilizzata per misurare quanto bene il modello è in grado di individuare tutte le istanze positive effettive, calcolando la frazione di istanze positive correttamente identificate dal modello rispetto al numero totale di istanze positive presenti nei dati di test.\n",
        "\n",
        "La recall è calcolata come:\n",
        "$$Recall = \\frac{\\text{Veri positivi}}{\\text{Veri positivi}+\\text{Falsi negativi}}$$\n",
        "\n",
        "Dove i \"veri positivi\" rappresentano il numero di istanze positive che il modello ha previsto correttamente come positive, mentre, i \"falsi negativi\" rappresentano il numero di istanze positive che il modello ha previsto erroneamente come negative. \\\n",
        "\n",
        "###4) F1-Score\n",
        "Metrica di valutazione che rappresenta la media armonica tra precisione e recall, utilizzata per valutare le prestazioni bilanciando l'importanza di avere sia previsioni accurate positive (precisione) che la capacità di individuare correttamente le istanze positive (recall).\n",
        "\n",
        "L'F1-Score è calcolato come:\n",
        "$$\\text{F1-Score} = \\frac{2\\times\\text{Precisione}\\times\\text{Recall}}{\\text{Precisione}+\\text{Recall}}$$ \\\n",
        "\\\n",
        "Sono state calcolate queste quattro metriche per coprire la maggior parte dei casi poiché l'accuratezza può essere fuorviante quando una classe è molto più comune dell'altra (il modello potrebbe ottenere un'alta accuratezza semplicemente prevedendo sempre la classe maggioritaria). \\\n",
        "\n",
        "La precisione non è sufficiente per valutare le prestazioni del modello da sola, poiché aumentare la precisione potrebbe portare a una diminuzione della recall e viceversa. \\\n",
        "\n",
        "La recall, come per la precisione, non è sufficiente per valutare le prestazioni del modello da sola. \\\n",
        "\n",
        "L'F1-score, essendo la media armonica tra precisione e recall, è influenzato da entrambe le metriche; pertanto, un valore alto, è sintomo che il modello sta ottenendo un buon equilibrio tra le previsioni accurate positive e la capacità di individuare istanze positive. \\\n",
        "\\\n",
        "Si può facilmente notare che tutte le metriche tendono al valore '1', questo è sintomo di ottime prestazioni del modello."
      ],
      "metadata": {
        "id": "Wew3zID02YzA"
      }
    },
    {
      "cell_type": "code",
      "source": [
        "# Creazione della tabella per Accuracy, Precision, Recall e F1\n",
        "table = [\n",
        "    [\"Accuracy\", \"Precision\", \"Recall\", \"F1-Score\"],\n",
        "    [accuracy, precision, recall, f1]\n",
        "]\n",
        "\n",
        "# Stampa della tabella\n",
        "print(tabulate(table, headers='firstrow', tablefmt='grid'))"
      ],
      "metadata": {
        "colab": {
          "base_uri": "https://localhost:8080/"
        },
        "id": "E9FN9z6LwdMF",
        "outputId": "a5bd54fa-b7eb-4de0-d09c-cd4c09c29f35"
      },
      "execution_count": 6,
      "outputs": [
        {
          "output_type": "stream",
          "name": "stdout",
          "text": [
            "+------------+-------------+----------+------------+\n",
            "|   Accuracy |   Precision |   Recall |   F1-Score |\n",
            "+============+=============+==========+============+\n",
            "|   0.996741 |    0.981839 | 0.981839 |   0.981839 |\n",
            "+------------+-------------+----------+------------+\n"
          ]
        }
      ]
    },
    {
      "cell_type": "markdown",
      "source": [
        "###Matrice di confusione\n",
        "In questo punto calcolo la matrice di confusione per visualizzare il numero di previsioni fatte dal modello, rispetto alle vere etichette di quelle istanze. \\\n",
        "La matrice di confusione è organizzata in una struttura a 2x2, dato il problema di classificazione binaria, e i quattro possibili risultati delle previsioni sono (in ordine da in alto a sinistra fino a in basso a destra): \\\n",
        "\\- Veri Negativi: I casi in cui il modello ha previsto correttamente la classe negativa. \\\n",
        "\\- Falsi Positivi: I casi in cui il modello ha previsto erroneamente la classe positiva quando era negativa. \\\n",
        "\\- Falsi Negativi: I casi in cui il modello ha previsto erroneamente la classe negativa quando era positiva. \\\n",
        "\\- Veri Positivi: I casi in cui il modello ha previsto correttamente la classe positiva. \\\n",
        "\\\n",
        "Si può facilmente notare che la maggior parte dei risultati sono veri, sintomo di ottime prestazioni del modello."
      ],
      "metadata": {
        "id": "lQvoB6Rp--_x"
      }
    },
    {
      "cell_type": "code",
      "source": [
        "# Visualizza la matrice di confusione utilizzando Seaborn\n",
        "plt.figure()\n",
        "sns.heatmap(confusion, annot=True, fmt='d', cmap='Greens', cbar=False)\n",
        "plt.xlabel('Previsti')\n",
        "plt.ylabel('Reali')\n",
        "plt.title('Matrice di Confusione')\n",
        "plt.show()"
      ],
      "metadata": {
        "colab": {
          "base_uri": "https://localhost:8080/",
          "height": 472
        },
        "id": "Ze3IWMrdlRsx",
        "outputId": "0a6456e4-fbe2-4669-8b16-33fd6fa321c6"
      },
      "execution_count": 7,
      "outputs": [
        {
          "output_type": "display_data",
          "data": {
            "text/plain": [
              "<Figure size 640x480 with 1 Axes>"
            ],
            "image/png": "[encoded data removed]"
          },
          "metadata": {}
        }
      ]
    },
    {
      "cell_type": "markdown",
      "source": [
        "###Curva ROC\n",
        "In questo punto mostro la curva ROC (Receiver Operating Characteristic) in un grafico che rappresenta la relazione tra il tasso di veri positivi e il tasso di falsi positivi al variare di una soglia di decisione. La curva ROC qui mostrata tende molto all'angolo in alto a sinistra (punto in cui il tasso di veri positivi è il più alto e il tasso di falsi positivi è il più basso), sintomo di buone prestazioni del modello che sta facendo previsioni corrette positive più spesso rispetto alle previsioni errate positive.\n",
        "\n",
        "Si può anche facilmente notare che l'area sottostante alla curva ROC (AUC, Area Under the Curve) è molto grande e ciò indica che il modello ha una buona capacità di discriminazione tra le classi."
      ],
      "metadata": {
        "id": "iGNX5bZNBoOu"
      }
    },
    {
      "cell_type": "code",
      "source": [
        "# Visualizza la curva Receiver Operating Characteristic (ROC) utilizzando matplotlib\n",
        "plt.figure()\n",
        "plt.plot(fpr, tpr, color='darkorange', lw=2, label='Curva ROC')\n",
        "plt.fill_between(fpr, tpr, color='lightblue', label='AUC = {:.2f}'.format(roc_auc) ,alpha=0.6)\n",
        "plt.xlim([-0.05, 1.05])\n",
        "plt.ylim([-0.05, 1.05])\n",
        "plt.xlabel('Tasso Falsi Positivi')\n",
        "plt.ylabel('Tasso Veri Positivi')\n",
        "plt.title('Receiver Operating Characteristic (ROC)')\n",
        "plt.legend(loc=\"lower right\")\n",
        "plt.grid(True)\n",
        "plt.show()"
      ],
      "metadata": {
        "colab": {
          "base_uri": "https://localhost:8080/",
          "height": 472
        },
        "id": "mW5w0vumwGjn",
        "outputId": "44f0931d-c0e4-4dd0-d7b2-a93f850ac936"
      },
      "execution_count": 8,
      "outputs": [
        {
          "output_type": "display_data",
          "data": {
            "text/plain": [
              "<Figure size 640x480 with 1 Axes>"
            ],
            "image/png": "[encoded data removed]"
          },
          "metadata": {}
        }
      ]
    },
    {
      "cell_type": "markdown",
      "source": [
        "###Curva Precisione-Recall\n",
        "In questo punto mostro la curva Precisione-Recall (PR) in un grafico che, differenza della curva ROC, mostra la trade-off tra la precisione e la recall del modello al variare della soglia di decisione. La curva PR qui mostrata tende molto all'angolo in alto a destra (punto in cui la precisione e la recall sono le migliori), sintomo di prestazioni eccellenti poiché il modello sta facendo previsioni positive solo per le istanze in cui è molto sicuro di ottenere risultati corretti, riducendo i falsi positivi, ma allo stesso tempo, il modello è in grado di individuare correttamente la maggior parte delle istanze positive reali, aumentando la recall.\n",
        "\n",
        "Si può anche facilmente notare che l'area sottostante alla curva PR (AP, Average Precision) è molto grande e ciò indica che il modello ha una buona capacità di mantenere elevate sia la precisione che la recall."
      ],
      "metadata": {
        "id": "_DmU3uUbH5Wo"
      }
    },
    {
      "cell_type": "code",
      "source": [
        "# Visualizza la curva Precision-Recall utilizzando matplotlib\n",
        "plt.figure()\n",
        "plt.plot(recall_curve, precision_curve, color='darkorange', lw=2, label='Curva PR')\n",
        "plt.fill_between(recall_curve, precision_curve, color='lightblue', label='AP = {:.2f}'.format(average_precision) ,alpha=0.6)\n",
        "plt.xlabel('Recall')\n",
        "plt.ylabel('Precisione')\n",
        "plt.title('Curva Precisione-Recall (PR)')\n",
        "plt.xlim([-0.05, 1.05])\n",
        "plt.ylim([0, 1.05])\n",
        "plt.legend(loc=\"lower left\")\n",
        "plt.grid(True)\n",
        "plt.show()"
      ],
      "metadata": {
        "colab": {
          "base_uri": "https://localhost:8080/",
          "height": 472
        },
        "id": "QCbd1cXhv-iN",
        "outputId": "d5e4ce92-8ba9-42f3-e5ed-195f4e0c1418"
      },
      "execution_count": 9,
      "outputs": [
        {
          "output_type": "display_data",
          "data": {
            "text/plain": [
              "<Figure size 640x480 with 1 Axes>"
            ],
            "image/png": "[encoded data removed]"
          },
          "metadata": {}
        }
      ]
    }
  ]
}